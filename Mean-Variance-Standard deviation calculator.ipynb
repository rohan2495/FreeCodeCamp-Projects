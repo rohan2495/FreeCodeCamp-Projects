{
 "cells": [
  {
   "cell_type": "code",
   "execution_count": 39,
   "metadata": {},
   "outputs": [],
   "source": [
    "import numpy as np\n",
    "import pandas as pd\n",
    "\n",
    "def calculate(list):\n",
    "    if len(list) != 9:\n",
    "        raise ValueError(\"List must contain nine numbers.\")\n",
    "    else:\n",
    "        arr = pd.Series(list)\n",
    "        arr = arr.to_numpy().reshape(3,3)\n",
    "\n",
    "        arr_mean = [np.mean(arr,axis=0).tolist(),np.mean(arr,axis=1).tolist(), np.mean(arr)]\n",
    "        arr_var =  [np.var(arr,axis=0).tolist(), np.var(arr,axis=1).tolist(), np.var(arr)]\n",
    "        arr_std =  [np.std(arr,axis=0).tolist(), np.std(arr,axis=1).tolist(), np.std(arr)]\n",
    "        arr_max =  [np.max(arr,axis=0).tolist(), np.max(arr,axis=1).tolist(), np.max(arr)]\n",
    "        arr_min =  [np.min(arr,axis=0).tolist(), np.min(arr,axis=1).tolist(), np.min(arr)]\n",
    "        arr_sum =  [np.sum(arr,axis=0).tolist(), np.sum(arr,axis=1).tolist(), np.sum(arr)]\n",
    "        calculations = {'mean' : arr_mean ,\n",
    "                    'variance' : arr_var,\n",
    "                   'standard deviation': arr_std,\n",
    "                   'max' : arr_max,\n",
    "                   'min': arr_min,\n",
    "                   'sum': arr_sum}\n",
    "    return calculations"
   ]
  },
  {
   "cell_type": "code",
   "execution_count": 41,
   "metadata": {},
   "outputs": [
    {
     "name": "stdout",
     "output_type": "stream",
     "text": [
      "{'mean': [[3.0, 4.0, 5.0], [1.0, 4.0, 7.0], 4.0], 'variance': [[6.0, 6.0, 6.0], [0.6666666666666666, 0.6666666666666666, 0.6666666666666666], 6.666666666666667], 'standard deviation': [[2.449489742783178, 2.449489742783178, 2.449489742783178], [0.816496580927726, 0.816496580927726, 0.816496580927726], 2.581988897471611], 'max': [[6, 7, 8], [2, 5, 8], 8], 'min': [[0, 1, 2], [0, 3, 6], 0], 'sum': [[9, 12, 15], [3, 12, 21], 36]}\n"
     ]
    }
   ],
   "source": [
    "# This entrypoint file to be used in development. Start by reading README.md\n",
    "\n",
    "from unittest import main\n",
    "\n",
    "print(calculate([0,1,2,3,4,5,6,7,8]))\n",
    "\n",
    "# Run unit tests automatically\n",
    "#main(module='test_module', exit=False)"
   ]
  },
  {
   "cell_type": "code",
   "execution_count": null,
   "metadata": {},
   "outputs": [],
   "source": []
  }
 ],
 "metadata": {
  "kernelspec": {
   "display_name": "Python 3",
   "language": "python",
   "name": "python3"
  },
  "language_info": {
   "codemirror_mode": {
    "name": "ipython",
    "version": 3
   },
   "file_extension": ".py",
   "mimetype": "text/x-python",
   "name": "python",
   "nbconvert_exporter": "python",
   "pygments_lexer": "ipython3",
   "version": "3.7.6"
  }
 },
 "nbformat": 4,
 "nbformat_minor": 4
}
